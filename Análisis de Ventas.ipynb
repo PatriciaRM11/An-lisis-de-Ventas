{
 "cells": [
  {
   "cell_type": "code",
   "execution_count": 80,
   "metadata": {},
   "outputs": [],
   "source": [
    "#Análisis de Ventas por Región, Producto y Vendedor"
   ]
  },
  {
   "cell_type": "code",
   "execution_count": 1,
   "metadata": {},
   "outputs": [],
   "source": [
    "import pandas as pd\n",
    "import numpy as np\n",
    "import matplotlib.pyplot as plt\n",
    "from matplotlib import cm\n",
    "from matplotlib import colors"
   ]
  },
  {
   "cell_type": "code",
   "execution_count": 2,
   "metadata": {},
   "outputs": [],
   "source": [
    "datos=pd.read_excel('Ventas.xlsx')"
   ]
  },
  {
   "cell_type": "code",
   "execution_count": 13,
   "metadata": {},
   "outputs": [
    {
     "data": {
      "text/html": [
       "<div>\n",
       "<style scoped>\n",
       "    .dataframe tbody tr th:only-of-type {\n",
       "        vertical-align: middle;\n",
       "    }\n",
       "\n",
       "    .dataframe tbody tr th {\n",
       "        vertical-align: top;\n",
       "    }\n",
       "\n",
       "    .dataframe thead th {\n",
       "        text-align: right;\n",
       "    }\n",
       "</style>\n",
       "<table border=\"1\" class=\"dataframe\">\n",
       "  <thead>\n",
       "    <tr style=\"text-align: right;\">\n",
       "      <th></th>\n",
       "      <th>Region</th>\n",
       "      <th>Producto</th>\n",
       "      <th>Vendedor</th>\n",
       "      <th>Ventas</th>\n",
       "    </tr>\n",
       "  </thead>\n",
       "  <tbody>\n",
       "    <tr>\n",
       "      <th>0</th>\n",
       "      <td>Central</td>\n",
       "      <td>Accesorios</td>\n",
       "      <td>David</td>\n",
       "      <td>8287</td>\n",
       "    </tr>\n",
       "    <tr>\n",
       "      <th>1</th>\n",
       "      <td>Central</td>\n",
       "      <td>Accesorios</td>\n",
       "      <td>Karen</td>\n",
       "      <td>6909</td>\n",
       "    </tr>\n",
       "    <tr>\n",
       "      <th>2</th>\n",
       "      <td>Central</td>\n",
       "      <td>Dispositivos</td>\n",
       "      <td>David</td>\n",
       "      <td>11420</td>\n",
       "    </tr>\n",
       "    <tr>\n",
       "      <th>3</th>\n",
       "      <td>Central</td>\n",
       "      <td>Dispositivos</td>\n",
       "      <td>Karen</td>\n",
       "      <td>12948</td>\n",
       "    </tr>\n",
       "    <tr>\n",
       "      <th>4</th>\n",
       "      <td>Central</td>\n",
       "      <td>Sistemas</td>\n",
       "      <td>David</td>\n",
       "      <td>20098</td>\n",
       "    </tr>\n",
       "    <tr>\n",
       "      <th>5</th>\n",
       "      <td>Central</td>\n",
       "      <td>Sistemas</td>\n",
       "      <td>Karen</td>\n",
       "      <td>30633</td>\n",
       "    </tr>\n",
       "    <tr>\n",
       "      <th>6</th>\n",
       "      <td>Este</td>\n",
       "      <td>Accesorios</td>\n",
       "      <td>Ana</td>\n",
       "      <td>9323</td>\n",
       "    </tr>\n",
       "    <tr>\n",
       "      <th>7</th>\n",
       "      <td>Este</td>\n",
       "      <td>Accesorios</td>\n",
       "      <td>Lucas</td>\n",
       "      <td>7667</td>\n",
       "    </tr>\n",
       "    <tr>\n",
       "      <th>8</th>\n",
       "      <td>Este</td>\n",
       "      <td>Dispositivos</td>\n",
       "      <td>Ana</td>\n",
       "      <td>10348</td>\n",
       "    </tr>\n",
       "    <tr>\n",
       "      <th>9</th>\n",
       "      <td>Este</td>\n",
       "      <td>Dispositivos</td>\n",
       "      <td>Lucas</td>\n",
       "      <td>9312</td>\n",
       "    </tr>\n",
       "    <tr>\n",
       "      <th>10</th>\n",
       "      <td>Este</td>\n",
       "      <td>Sistemas</td>\n",
       "      <td>Ana</td>\n",
       "      <td>13531</td>\n",
       "    </tr>\n",
       "    <tr>\n",
       "      <th>11</th>\n",
       "      <td>Este</td>\n",
       "      <td>Sistemas</td>\n",
       "      <td>Lucas</td>\n",
       "      <td>13374</td>\n",
       "    </tr>\n",
       "    <tr>\n",
       "      <th>12</th>\n",
       "      <td>Oeste</td>\n",
       "      <td>Accesorios</td>\n",
       "      <td>Kevin</td>\n",
       "      <td>4744</td>\n",
       "    </tr>\n",
       "    <tr>\n",
       "      <th>13</th>\n",
       "      <td>Oeste</td>\n",
       "      <td>Accesorios</td>\n",
       "      <td>Sara</td>\n",
       "      <td>5442</td>\n",
       "    </tr>\n",
       "    <tr>\n",
       "      <th>14</th>\n",
       "      <td>Oeste</td>\n",
       "      <td>Dispositivos</td>\n",
       "      <td>Kevin</td>\n",
       "      <td>10711</td>\n",
       "    </tr>\n",
       "    <tr>\n",
       "      <th>15</th>\n",
       "      <td>Oeste</td>\n",
       "      <td>Dispositivos</td>\n",
       "      <td>Sara</td>\n",
       "      <td>8780</td>\n",
       "    </tr>\n",
       "    <tr>\n",
       "      <th>16</th>\n",
       "      <td>Oeste</td>\n",
       "      <td>Sistemas</td>\n",
       "      <td>Kevin</td>\n",
       "      <td>32855</td>\n",
       "    </tr>\n",
       "    <tr>\n",
       "      <th>17</th>\n",
       "      <td>Oeste</td>\n",
       "      <td>Sistemas</td>\n",
       "      <td>Sara</td>\n",
       "      <td>23151</td>\n",
       "    </tr>\n",
       "  </tbody>\n",
       "</table>\n",
       "</div>"
      ],
      "text/plain": [
       "     Region      Producto Vendedor  Ventas\n",
       "0   Central    Accesorios    David    8287\n",
       "1   Central    Accesorios    Karen    6909\n",
       "2   Central  Dispositivos    David   11420\n",
       "3   Central  Dispositivos    Karen   12948\n",
       "4   Central      Sistemas    David   20098\n",
       "5   Central      Sistemas    Karen   30633\n",
       "6      Este    Accesorios      Ana    9323\n",
       "7      Este    Accesorios    Lucas    7667\n",
       "8      Este  Dispositivos      Ana   10348\n",
       "9      Este  Dispositivos    Lucas    9312\n",
       "10     Este      Sistemas      Ana   13531\n",
       "11     Este      Sistemas    Lucas   13374\n",
       "12    Oeste    Accesorios    Kevin    4744\n",
       "13    Oeste    Accesorios     Sara    5442\n",
       "14    Oeste  Dispositivos    Kevin   10711\n",
       "15    Oeste  Dispositivos     Sara    8780\n",
       "16    Oeste      Sistemas    Kevin   32855\n",
       "17    Oeste      Sistemas     Sara   23151"
      ]
     },
     "execution_count": 13,
     "metadata": {},
     "output_type": "execute_result"
    }
   ],
   "source": [
    "datos"
   ]
  },
  {
   "cell_type": "code",
   "execution_count": 14,
   "metadata": {},
   "outputs": [],
   "source": [
    "#Total de Ventas"
   ]
  },
  {
   "cell_type": "code",
   "execution_count": 3,
   "metadata": {},
   "outputs": [
    {
     "name": "stdout",
     "output_type": "stream",
     "text": [
      "Total de Ventas: 239533\n"
     ]
    }
   ],
   "source": [
    "print('Total de Ventas:', sum(datos['Ventas']))"
   ]
  },
  {
   "cell_type": "code",
   "execution_count": 16,
   "metadata": {},
   "outputs": [],
   "source": [
    "#Total de Ventas por Región"
   ]
  },
  {
   "cell_type": "code",
   "execution_count": 20,
   "metadata": {},
   "outputs": [],
   "source": [
    "#Central"
   ]
  },
  {
   "cell_type": "code",
   "execution_count": 40,
   "metadata": {},
   "outputs": [
    {
     "name": "stdout",
     "output_type": "stream",
     "text": [
      "90295\n"
     ]
    }
   ],
   "source": [
    "region_central=datos[datos.Region=='Central']\n",
    "print(sum(region_central['Ventas']))"
   ]
  },
  {
   "cell_type": "code",
   "execution_count": 41,
   "metadata": {},
   "outputs": [],
   "source": [
    "#Este"
   ]
  },
  {
   "cell_type": "code",
   "execution_count": 43,
   "metadata": {},
   "outputs": [
    {
     "name": "stdout",
     "output_type": "stream",
     "text": [
      "63555\n"
     ]
    }
   ],
   "source": [
    "region_este=datos[datos.Region=='Este']\n",
    "print(sum(region_este['Ventas']))"
   ]
  },
  {
   "cell_type": "code",
   "execution_count": 44,
   "metadata": {},
   "outputs": [],
   "source": [
    "#Oeste"
   ]
  },
  {
   "cell_type": "code",
   "execution_count": 46,
   "metadata": {},
   "outputs": [
    {
     "name": "stdout",
     "output_type": "stream",
     "text": [
      "85683\n"
     ]
    }
   ],
   "source": [
    "region_oeste=datos[datos.Region=='Oeste']\n",
    "print(sum(region_oeste['Ventas']))"
   ]
  },
  {
   "cell_type": "code",
   "execution_count": 78,
   "metadata": {},
   "outputs": [
    {
     "data": {
      "image/png": "[encoded data removed]",
      "text/plain": [
       "<Figure size 432x288 with 1 Axes>"
      ]
     },
     "metadata": {},
     "output_type": "display_data"
    }
   ],
   "source": [
    "ventas=[90295,63555,85683]\n",
    "region=['central','este','oeste']\n",
    "normdata = colors.Normalize(min(ventas), max(ventas))\n",
    "colormap = cm.get_cmap(\"Blues\")\n",
    "colores =colormap(normdata(ventas))\n",
    "plt.pie(ventas, labels=region, autopct=\"%0.0f %%\",colors=colores)\n",
    "plt.title('Ventas por Region')\n",
    "plt.show()"
   ]
  },
  {
   "cell_type": "code",
   "execution_count": 61,
   "metadata": {},
   "outputs": [],
   "source": [
    "#Total de Ventas por Producto "
   ]
  },
  {
   "cell_type": "code",
   "execution_count": 62,
   "metadata": {},
   "outputs": [],
   "source": [
    "#Sistemas "
   ]
  },
  {
   "cell_type": "code",
   "execution_count": 65,
   "metadata": {},
   "outputs": [
    {
     "name": "stdout",
     "output_type": "stream",
     "text": [
      "133642\n"
     ]
    }
   ],
   "source": [
    "sistemas=datos[datos.Producto=='Sistemas']\n",
    "print(sum(sistemas['Ventas']))"
   ]
  },
  {
   "cell_type": "code",
   "execution_count": 66,
   "metadata": {},
   "outputs": [],
   "source": [
    "#Dispositivos"
   ]
  },
  {
   "cell_type": "code",
   "execution_count": 67,
   "metadata": {},
   "outputs": [
    {
     "name": "stdout",
     "output_type": "stream",
     "text": [
      "63519\n"
     ]
    }
   ],
   "source": [
    "dispositivos=datos[datos.Producto=='Dispositivos']\n",
    "print(sum(dispositivos['Ventas']))"
   ]
  },
  {
   "cell_type": "code",
   "execution_count": 68,
   "metadata": {},
   "outputs": [],
   "source": [
    "#Accesorios"
   ]
  },
  {
   "cell_type": "code",
   "execution_count": 69,
   "metadata": {},
   "outputs": [
    {
     "name": "stdout",
     "output_type": "stream",
     "text": [
      "42372\n"
     ]
    }
   ],
   "source": [
    "accesorios=datos[datos.Producto=='Accesorios']\n",
    "print(sum(accesorios['Ventas']))"
   ]
  },
  {
   "cell_type": "code",
   "execution_count": 77,
   "metadata": {},
   "outputs": [
    {
     "data": {
      "image/png": "[encoded data removed]",
      "text/plain": [
       "<Figure size 432x288 with 1 Axes>"
      ]
     },
     "metadata": {},
     "output_type": "display_data"
    }
   ],
   "source": [
    "ventas=[133642,63519,42372]\n",
    "producto=['sistemas','dispositivos','accesorios']\n",
    "normdata = colors.Normalize(min(ventas), max(ventas))\n",
    "colormap = cm.get_cmap(\"Greens\")\n",
    "colores =colormap(normdata(ventas))\n",
    "plt.pie(ventas, labels=producto, autopct=\"%0.0f %%\",colors=colores)\n",
    "centre_circle = plt.Circle((0, 0), 0.70, fc='white')\n",
    "fig = plt.gcf()\n",
    "fig.gca().add_artist(centre_circle)\n",
    "plt.title('Ventas por Productos')\n",
    "plt.show()"
   ]
  },
  {
   "cell_type": "code",
   "execution_count": 81,
   "metadata": {},
   "outputs": [],
   "source": [
    "#Total de Ventas por Vendedor "
   ]
  },
  {
   "cell_type": "code",
   "execution_count": 86,
   "metadata": {},
   "outputs": [
    {
     "name": "stdout",
     "output_type": "stream",
     "text": [
      "Kevin 48310\n",
      "Sara 37373\n",
      "Ana 33202\n",
      "Lucas 30353\n",
      "David 39805\n",
      "Karen 50490\n"
     ]
    }
   ],
   "source": [
    "kevin=datos[datos.Vendedor=='Kevin']\n",
    "print('Kevin', sum(kevin['Ventas']))\n",
    "sara=datos[datos.Vendedor=='Sara']\n",
    "print('Sara', sum(sara['Ventas']))\n",
    "ana=datos[datos.Vendedor=='Ana']\n",
    "print('Ana', sum(ana['Ventas']))\n",
    "lucas=datos[datos.Vendedor=='Lucas']\n",
    "print('Lucas', sum(lucas['Ventas']))\n",
    "david=datos[datos.Vendedor=='David']\n",
    "print('David', sum(david['Ventas']))\n",
    "karen=datos[datos.Vendedor=='Karen']\n",
    "print('Karen', sum(karen['Ventas']))"
   ]
  },
  {
   "cell_type": "code",
   "execution_count": 100,
   "metadata": {},
   "outputs": [
    {
     "data": {
      "image/png": "[encoded data removed]",
      "text/plain": [
       "<Figure size 432x288 with 1 Axes>"
      ]
     },
     "metadata": {
      "needs_background": "light"
     },
     "output_type": "display_data"
    }
   ],
   "source": [
    "x=['Kevin','Sara','Ana','Lucas','David','Karen']\n",
    "y=[48310,37373,33202,30353,39805,50490]\n",
    "plt.bar(x,y)\n",
    "plt.title('Ventas por Vendedor')\n",
    "plt.show()"
   ]
  }
 ],
 "metadata": {
  "kernelspec": {
   "display_name": "Python 3",
   "language": "python",
   "name": "python3"
  },
  "language_info": {
   "codemirror_mode": {
    "name": "ipython",
    "version": 3
   },
   "file_extension": ".py",
   "mimetype": "text/x-python",
   "name": "python",
   "nbconvert_exporter": "python",
   "pygments_lexer": "ipython3",
   "version": "3.8.3"
  }
 },
 "nbformat": 4,
 "nbformat_minor": 4
}
